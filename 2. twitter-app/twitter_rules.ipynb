{
 "cells": [
  {
   "cell_type": "code",
   "execution_count": null,
   "id": "74326ee9",
   "metadata": {},
   "outputs": [],
   "source": [
    "import os\n",
    "import tweepy"
   ]
  },
  {
   "cell_type": "code",
   "execution_count": null,
   "id": "e6c8d5ba",
   "metadata": {},
   "outputs": [],
   "source": [
    "from dotenv import load_dotenv\n",
    "from twitter_app import MyStream"
   ]
  },
  {
   "cell_type": "code",
   "execution_count": null,
   "id": "c9a88fda",
   "metadata": {},
   "outputs": [],
   "source": [
    "# Using custom MyStream class from twitter_app.py\n",
    "twitter_stream = MyStream(os.getenv('BEARER_TOKEN'))"
   ]
  },
  {
   "cell_type": "code",
   "execution_count": null,
   "id": "6a9ef962",
   "metadata": {},
   "outputs": [],
   "source": [
    "# Adding rules to the project\n",
    "twitter_stream.add_rules(tweepy.StreamRule(\"christmas lang:en -is:quote -is:reply -is:retweet\", tag=\"christmas\"))"
   ]
  },
  {
   "cell_type": "code",
   "execution_count": null,
   "id": "ac3725f8",
   "metadata": {},
   "outputs": [],
   "source": [
    "# Getting rules for the project\n",
    "twitter_stream.get_rules()"
   ]
  },
  {
   "cell_type": "code",
   "execution_count": null,
   "id": "3126cbd6",
   "metadata": {},
   "outputs": [],
   "source": [
    "# Delete rules from the project\n",
    "twitter_stream.delete_rules(ids=[\"\"])"
   ]
  }
 ],
 "metadata": {
  "kernelspec": {
   "display_name": "Python 3.7.0 (conda)",
   "language": "python",
   "name": "python3"
  },
  "language_info": {
   "codemirror_mode": {
    "name": "ipython",
    "version": 3
   },
   "file_extension": ".py",
   "mimetype": "text/x-python",
   "name": "python",
   "nbconvert_exporter": "python",
   "pygments_lexer": "ipython3",
   "version": "3.7.0 (default, Jun 28 2018, 08:04:48) [MSC v.1912 64 bit (AMD64)]"
  },
  "vscode": {
   "interpreter": {
    "hash": "d0863f7506d2a83b9ad358ba007e5d90737ee13b6e365d947eaa4f028976ca00"
   }
  }
 },
 "nbformat": 4,
 "nbformat_minor": 5
}
